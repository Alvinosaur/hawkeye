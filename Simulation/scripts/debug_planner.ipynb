{
 "cells": [
  {
   "cell_type": "code",
   "execution_count": 1,
   "metadata": {},
   "outputs": [],
   "source": [
    "%matplotlib widget\n",
    "\n",
    "from mpl_toolkits import mplot3d\n",
    "\n",
    "import time\n",
    "import math\n",
    "import numpy as np\n",
    "import matplotlib.pyplot as plt\n",
    "from mpl_toolkits.mplot3d import axes3d\n",
    "from matplotlib.patches import FancyArrowPatch\n",
    "from mpl_toolkits.mplot3d import proj3d\n",
    "\n",
    "arrow_prop_dict = dict(mutation_scale=20, arrowstyle='->', shrinkA=0, shrinkB=0)\n",
    "class Arrow3D(FancyArrowPatch):\n",
    "    def __init__(self, xs, ys, zs, *args, **kwargs):\n",
    "        FancyArrowPatch.__init__(self, (0, 0), (0, 0), *args, **kwargs)\n",
    "        self._verts3d = xs, ys, zs\n",
    "\n",
    "    def draw(self, renderer):\n",
    "        xs3d, ys3d, zs3d = self._verts3d\n",
    "        xs, ys, zs = proj3d.proj_transform(xs3d, ys3d, zs3d, renderer.M)\n",
    "        self.set_positions((xs[0], ys[0]), (xs[1], ys[1]))\n",
    "        FancyArrowPatch.draw(self, renderer)\n",
    "\n",
    "def draw_coordinate_frame(ax, T, R):\n",
    "    tx, ty, tz = T\n",
    "    new_x = R @ np.array([1, 0, 0.0]) + T\n",
    "    new_y = R @ np.array([0, 1, 0.0]) + T\n",
    "    new_z = R @ np.array([0, 0, 1.0]) + T\n",
    "    \n",
    "    a = Arrow3D([tx, new_x[0]], [ty, new_x[1]], [tz, new_x[2]], **arrow_prop_dict, color='r')\n",
    "    ax.add_artist(a)\n",
    "    a = Arrow3D([tx, new_y[0]], [ty, new_y[1]], [tz, new_y[2]], **arrow_prop_dict, color='b')\n",
    "    ax.add_artist(a)\n",
    "    a = Arrow3D([tx, new_z[0]], [ty, new_z[1]], [tz, new_z[2]], **arrow_prop_dict, color='g')\n",
    "    ax.add_artist(a)\n",
    "    \n",
    "def draw_vec(ax, p1, p2, color):\n",
    "    a = Arrow3D([p1[0], p2[0]], [p1[1], p2[1]], [p1[2], p2[2]], **arrow_prop_dict, color=color)\n",
    "    ax.add_artist(a)"
   ]
  },
  {
   "cell_type": "code",
   "execution_count": 2,
   "metadata": {},
   "outputs": [],
   "source": [
    "def project_to_plane(origin, vec):\n",
    "    ground_normal, ground_point = np.array([0, 0, 1]), np.array([0, 0, 0])\n",
    "    t = (-ground_normal @ (origin - ground_point)) / (ground_normal @ vec)\n",
    "    return t"
   ]
  },
  {
   "cell_type": "code",
   "execution_count": 3,
   "metadata": {},
   "outputs": [
    {
     "name": "stdout",
     "output_type": "stream",
     "text": [
      "[[1.  0.  0.  0.1 0.  0.  0. ]\n",
      " [0.  1.  0.  0.  0.1 0.  0. ]\n",
      " [0.  0.  1.  0.  0.  0.1 0. ]\n",
      " [0.  0.  0.  1.  0.  0.  0. ]\n",
      " [0.  0.  0.  0.  1.  0.  0. ]\n",
      " [0.  0.  0.  0.  0.  1.  0. ]\n",
      " [0.  0.  0.  0.  0.  0.  1. ]]\n",
      "[[0.005 0.    0.    0.   ]\n",
      " [0.    0.005 0.    0.   ]\n",
      " [0.    0.    0.005 0.   ]\n",
      " [0.1   0.    0.    0.   ]\n",
      " [0.    0.1   0.    0.   ]\n",
      " [0.    0.    0.1   0.   ]\n",
      " [0.    0.    0.    0.1  ]]\n",
      "time taken: 11.580s\n"
     ]
    }
   ],
   "source": [
    "from drone_mpc import DroneMPC\n",
    "from scipy.spatial.transform import Rotation\n",
    "\n",
    "data = np.load(\"../rosbags/drone_target_sample.npz\", allow_pickle=True)\n",
    "x0 = data[\"drone_x\"]\n",
    "T = x0[:3]\n",
    "\n",
    "q0 = data[\"drone_q\"]\n",
    "R = Rotation.from_quat(q0)\n",
    "\n",
    "N = 10\n",
    "pix_3d = data[\"pixel_drone\"]\n",
    "target_traj = data[\"target_traj\"]\n",
    "con = DroneMPC(N=N)\n",
    "\n",
    "\n",
    "phi = R.as_euler(\"XYZ\")[0]\n",
    "user_sq_dist = 0.5\n",
    "start_time = time.time()\n",
    "X_mpc, U_mpc = con.solve(\n",
    "    x0=x0, u0=None, target_pixel=pix_3d,\n",
    "    phi0=phi, target_traj=target_traj, user_sq_dist=user_sq_dist)\n",
    "print(\"time taken: %.3fs\" % (time.time() - start_time))"
   ]
  },
  {
   "cell_type": "code",
   "execution_count": null,
   "metadata": {},
   "outputs": [],
   "source": []
  },
  {
   "cell_type": "code",
   "execution_count": 4,
   "metadata": {},
   "outputs": [
    {
     "data": {
      "text/plain": [
       "array([[ 2.08938140e-02,  2.53066737e-02,  7.99154234e+00,\n",
       "        -1.90564711e-02, -1.27188843e-02, -1.65763628e-02,\n",
       "         7.88326360e-01],\n",
       "       [ 5.39318992e-01, -5.93160963e-01,  7.85825587e+00,\n",
       "         1.03827973e+01, -1.23509845e+01, -2.64794817e+00,\n",
       "         9.70131934e-01],\n",
       "       [ 1.77535365e+00, -1.38708315e+00,  7.52500737e+00,\n",
       "         1.43360858e+01, -3.53149747e+00, -4.01639519e+00,\n",
       "         1.46247926e+00],\n",
       "       [ 3.00527271e+00, -1.18047960e+00,  7.09262564e+00,\n",
       "         1.02641599e+01,  7.65844476e+00, -4.63095811e+00,\n",
       "         1.91048605e+00],\n",
       "       [ 3.67377571e+00, -1.38402031e-01,  6.61889082e+00,\n",
       "         3.10917614e+00,  1.31805782e+01, -4.84364097e+00,\n",
       "         2.29281878e+00],\n",
       "       [ 3.65719510e+00,  1.21486113e+00,  6.13311355e+00,\n",
       "        -3.43779076e+00,  1.38843626e+01, -4.87189133e+00,\n",
       "         2.60835828e+00],\n",
       "       [ 3.08104167e+00,  2.51691463e+00,  5.64752179e+00,\n",
       "        -8.08315079e+00,  1.21574981e+01, -4.83995861e+00,\n",
       "         2.85145764e+00],\n",
       "       [ 2.13319275e+00,  3.62191243e+00,  5.16528972e+00,\n",
       "        -1.08725504e+01,  9.94347160e+00, -4.80469886e+00,\n",
       "         3.02663516e+00],\n",
       "       [ 9.67981068e-01,  4.54026000e+00,  4.68593355e+00,\n",
       "        -1.24309697e+01,  8.42417560e+00, -4.78243472e+00,\n",
       "         3.14980388e+00],\n",
       "       [-3.02892054e-01,  5.35797447e+00,  4.20805926e+00,\n",
       "        -1.29862385e+01,  7.93033972e+00, -4.77505444e+00,\n",
       "         3.24359207e+00],\n",
       "       [-1.60151628e+00,  6.15100806e+00,  3.73055344e+00,\n",
       "        -1.29862461e+01,  7.93033209e+00, -4.77506207e+00,\n",
       "         3.33943448e+00]])"
      ]
     },
     "execution_count": 4,
     "metadata": {},
     "output_type": "execute_result"
    }
   ],
   "source": [
    "X_mpc"
   ]
  },
  {
   "cell_type": "code",
   "execution_count": 5,
   "metadata": {},
   "outputs": [
    {
     "data": {
      "text/plain": [
       "21.878236126772958"
      ]
     },
     "execution_count": 5,
     "metadata": {},
     "output_type": "execute_result"
    }
   ],
   "source": [
    "np.linalg.norm(x0[:2] - data[\"target_traj\"][0][:2])**2"
   ]
  },
  {
   "cell_type": "code",
   "execution_count": 6,
   "metadata": {},
   "outputs": [
    {
     "name": "stdout",
     "output_type": "stream",
     "text": [
      "[0.7883263604479005, 0.46650359121892887, 0.0010596015757493582]\n",
      "[7.88327183e-01 1.62825303e-04 1.66669236e-03]\n"
     ]
    },
    {
     "data": {
      "image/png": "[encoded data removed]",
      "text/plain": [
       "<Figure size 432x288 with 1 Axes>"
      ]
     },
     "metadata": {
      "needs_background": "light"
     },
     "output_type": "display_data"
    }
   ],
   "source": [
    "fig = plt.figure()\n",
    "ax = fig.gca(projection='3d')\n",
    "ax.set_xlabel('X')\n",
    "ax.set_ylabel('Y')\n",
    "ax.set_zlabel('Z')\n",
    "target_x = [data[\"target_traj\"][i][0] for i in range(len(data[\"target_traj\"]))]\n",
    "target_y = [data[\"target_traj\"][i][1] for i in range(len(data[\"target_traj\"]))]\n",
    "target_z = [data[\"target_traj\"][i][2] for i in range(len(data[\"target_traj\"]))]\n",
    "ax.plot(target_x, target_y, target_z, label='target path')\n",
    "for target_pos in data[\"target_traj\"]:\n",
    "    draw_coordinate_frame(ax, T=target_pos, R=np.eye(3))\n",
    "    \n",
    "ax.plot(X_mpc[:,0], X_mpc[:,1], X_mpc[:,2], label='drone path')\n",
    "for i in range(X_mpc.shape[0]):\n",
    "    rot = Rotation.from_euler(\"ZYX\", [X_mpc[i, -1], 0, 0]).as_matrix()\n",
    "    draw_coordinate_frame(ax, T=X_mpc[i, :3], R=rot)\n",
    "    desired_vec = rot @ pix_3d\n",
    "    t = project_to_plane(X_mpc[i, :3], desired_vec)\n",
    "    draw_vec(ax, X_mpc[i, :3], desired_vec*t + X_mpc[i, :3], color='g')\n",
    "draw_coordinate_frame(ax, T=T, R=R.as_matrix())\n",
    "\n",
    "# vec from drone to target\n",
    "true_vec = data[\"target_traj\"][0] - x0[:3]\n",
    "draw_vec(ax, x0[:3], data[\"target_traj\"][0], color='r')\n",
    "\n",
    "# desired vec (center of image plane)\n",
    "yaw = x0[-1]\n",
    "vel = np.array([x0[3], x0[4], x0[5]])\n",
    "vel = vel / np.linalg.norm(vel)\n",
    "theta = math.asin(-vel[1])  # pitch\n",
    "print([yaw, theta, phi])\n",
    "print(R.as_euler(\"ZYX\"))\n",
    "fake_R = Rotation.from_euler('ZYX', [yaw, 0, 0])\n",
    "desired_vec = fake_R.as_matrix() @ pix_3d\n",
    "t = project_to_plane(T, desired_vec)\n",
    "draw_vec(ax, T, desired_vec*t + T, color='g')\n",
    "\n",
    "ax.legend()\n",
    "plt.show()"
   ]
  }
 ],
 "metadata": {
  "kernelspec": {
   "display_name": "Python 3",
   "language": "python",
   "name": "python3"
  },
  "language_info": {
   "codemirror_mode": {
    "name": "ipython",
    "version": 3
   },
   "file_extension": ".py",
   "mimetype": "text/x-python",
   "name": "python",
   "nbconvert_exporter": "python",
   "pygments_lexer": "ipython3",
   "version": "3.6.9"
  }
 },
 "nbformat": 4,
 "nbformat_minor": 4
}
