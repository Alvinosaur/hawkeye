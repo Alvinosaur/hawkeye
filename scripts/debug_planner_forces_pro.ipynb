{
 "cells": [
  {
   "cell_type": "code",
   "execution_count": 1,
   "metadata": {},
   "outputs": [],
   "source": [
    "%matplotlib widget\n",
    "\n",
    "from mpl_toolkits import mplot3d\n",
    "\n",
    "import time\n",
    "import math\n",
    "import numpy as np\n",
    "import matplotlib.pyplot as plt\n",
    "from mpl_toolkits.mplot3d import axes3d\n",
    "from matplotlib.patches import FancyArrowPatch\n",
    "from mpl_toolkits.mplot3d import proj3d\n",
    "\n",
    "### Plotting code, not relevant to solver ###\n",
    "arrow_prop_dict = dict(mutation_scale=20, arrowstyle='->', shrinkA=0, shrinkB=0)\n",
    "class Arrow3D(FancyArrowPatch):\n",
    "    def __init__(self, xs, ys, zs, *args, **kwargs):\n",
    "        FancyArrowPatch.__init__(self, (0, 0), (0, 0), *args, **kwargs)\n",
    "        self._verts3d = xs, ys, zs\n",
    "\n",
    "    def draw(self, renderer):\n",
    "        xs3d, ys3d, zs3d = self._verts3d\n",
    "        xs, ys, zs = proj3d.proj_transform(xs3d, ys3d, zs3d, renderer.M)\n",
    "        self.set_positions((xs[0], ys[0]), (xs[1], ys[1]))\n",
    "        FancyArrowPatch.draw(self, renderer)\n",
    "\n",
    "def draw_coordinate_frame(ax, T, R):\n",
    "    tx, ty, tz = T\n",
    "    new_x = R @ np.array([1, 0, 0.0]) + T\n",
    "    new_y = R @ np.array([0, 1, 0.0]) + T\n",
    "    new_z = R @ np.array([0, 0, 1.0]) + T\n",
    "    \n",
    "    a = Arrow3D([tx, new_x[0]], [ty, new_x[1]], [tz, new_x[2]], **arrow_prop_dict, color='r')\n",
    "    ax.add_artist(a)\n",
    "    a = Arrow3D([tx, new_y[0]], [ty, new_y[1]], [tz, new_y[2]], **arrow_prop_dict, color='b')\n",
    "    ax.add_artist(a)\n",
    "    a = Arrow3D([tx, new_z[0]], [ty, new_z[1]], [tz, new_z[2]], **arrow_prop_dict, color='g')\n",
    "    ax.add_artist(a)\n",
    "    \n",
    "def draw_vec(ax, p1, p2, color):\n",
    "    a = Arrow3D([p1[0], p2[0]], [p1[1], p2[1]], [p1[2], p2[2]], **arrow_prop_dict, color=color)\n",
    "    ax.add_artist(a)"
   ]
  },
  {
   "cell_type": "code",
   "execution_count": 2,
   "metadata": {},
   "outputs": [],
   "source": [
    "def project_to_plane(origin, vec):\n",
    "    ground_normal, ground_point = np.array([0, 0, 1]), np.array([0, 0, 0])\n",
    "    t = (-ground_normal @ (origin - ground_point)) / (ground_normal @ vec)\n",
    "    return t"
   ]
  },
  {
   "cell_type": "code",
   "execution_count": 32,
   "metadata": {},
   "outputs": [
    {
     "name": "stdout",
     "output_type": "stream",
     "text": [
      "(10, 3)\n"
     ]
    }
   ],
   "source": [
    "from scipy.spatial.transform import Rotation\n",
    "\n",
    "data = np.load(\"drone_target_sample.npz\", allow_pickle=True)\n",
    "x0 = data[\"drone_x\"]  # initial drone state \n",
    "T = x0[:3]\n",
    "\n",
    "q0 = data[\"drone_q\"]\n",
    "R = Rotation.from_quat(q0)\n",
    "\n",
    "N = 10\n",
    "pix_3d = data[\"pixel_drone\"]\n",
    "target_traj = data[\"target_traj\"]  # N x 3 target positions over horizon of N\n",
    "print(target_traj.shape)"
   ]
  },
  {
   "cell_type": "code",
   "execution_count": 34,
   "metadata": {},
   "outputs": [],
   "source": [
    "import casadi\n",
    "\n",
    "def norm(vec):\n",
    "    return (vec[0]**2 + vec[1]**2 + vec[2]**2)**0.5\n",
    "\n",
    "def state_cost(z, args):\n",
    "    \"\"\"\n",
    "    target_pixel is the 3D coordinate of a pixel in the drone's frame. Needs to be\n",
    "    transformed into world frame\n",
    "    \"\"\"\n",
    "    xt_target, target_pixel = args[:3], args[3:]\n",
    "    xt = z[4:]\n",
    "    u = z[:4]\n",
    "    yaw = xt[-1]\n",
    "    # TODO: Check if np and Rotation can handle these variables\n",
    "    # vel = np.array([xt[3], xt[4], xt[5]])\n",
    "    # vel = vel / np.linalg.norm(vel)\n",
    "    # # TODO: check if vel[1] or [2]!!\n",
    "    # theta = math.asin(-vel[2])  # pitch\n",
    "    # phi = 0  # cannot be determined from velocity\n",
    "    # (R @ X + T) - T\n",
    "\n",
    "    # TODO: convert all to float16\n",
    "    # try https://cupy.dev/\n",
    "    # try https://scikit-cuda.readthedocs.io/en/latest/\n",
    "    # try cython\n",
    "    # convert python to c+\n",
    "    rot = np.array([\n",
    "        [1, 0, 0.0],\n",
    "        [0, casadi.cos(yaw), -casadi.sin(yaw)],\n",
    "        [0, casadi.sin(yaw), casadi.cos(yaw)]\n",
    "    ])\n",
    "    # desired 3D vector through center pixel of image\n",
    "    vec_target = casadi.mtimes(rot, target_pixel)\n",
    "    vec_target = vec_target / norm(vec_target)\n",
    "    \n",
    "    # actual 3D vector from drone camera center to target\n",
    "    vec_cur = xt_target - xt[:3]\n",
    "    vec_cur = vec_cur / norm(vec_cur)\n",
    "\n",
    "    # want vectors to align (dot-prod = +1)\n",
    "    viewpoint_cost = (1 - casadi.mtimes(vec_target.T, vec_cur)) ** 2\n",
    "    \n",
    "    # maintain desired height\n",
    "    desired_height_cost = (xt[0] - 8) ** 2\n",
    "    \n",
    "    # maintain desired horiz distance from target\n",
    "    horiz_dist = (xt[0] - xt_target[0]) ** 2 + (xt[1] - xt_target[1]) ** 2\n",
    "    desired_horiz_dist = 22\n",
    "    desired_dist_cost = (desired_horiz_dist - horiz_dist) ** 2\n",
    "    \n",
    "    R = np.diag([1, 1, 1, 0.001])\n",
    "    control_cost = casadi.mtimes([u.T, R, u])\n",
    "    \n",
    "    return 100 * viewpoint_cost + 10* desired_height_cost + 10*desired_dist_cost + 0.01 * control_cost"
   ]
  },
  {
   "cell_type": "code",
   "execution_count": 68,
   "metadata": {},
   "outputs": [],
   "source": [
    "import casadi\n",
    "\n",
    "# Upper/lower variable bounds lb <= eval_state_constraints(z) <= ub\n",
    "# https://forces.embotech.com/Documentation/high_level_interface/index.html?highlight=symbolicmodel#inequalities\n",
    "max_yaw_rate = (2*math.pi / 3) * dt  # max rotate rad/sec * (dt sec / 1 step)\n",
    "max_horiz_acc = 1 * dt  # m/s^2 * (dt sec / 1 step)\n",
    "max_vert_acc = 2 * dt  # m/s^2 * (dt sec / 1 step)\n",
    "# ax  ay  az  yaw_rate  \n",
    "ctrl_lb = np.array([ -max_horiz_acc, -max_horiz_acc, -max_vert_acc, -max_yaw_rate])\n",
    "ctrl_ub = np.array([ max_horiz_acc, max_horiz_acc, max_vert_acc, max_yaw_rate])\n",
    "\n",
    "max_horiz_vel = 5  # m/s\n",
    "max_vert_vel = 5  # m/s\n",
    "min_yaw = -np.Inf\n",
    "max_yaw = np.Inf\n",
    "min_y = 0 # TODO!!!\n",
    "max_y = 6\n",
    "min_x = -6\n",
    "max_x = 6\n",
    "min_z = 6\n",
    "max_z = 10\n",
    "# x  y  z  vx  vy  vz  yaw\n",
    "state_lb = np.array([min_x, min_y, min_z, -max_horiz_vel, -max_horiz_vel, -max_vert_vel, min_yaw])\n",
    "state_ub = np.array([max_x, max_y, max_z, max_horiz_vel, max_horiz_vel, max_vert_vel, max_yaw])"
   ]
  },
  {
   "cell_type": "code",
   "execution_count": 92,
   "metadata": {},
   "outputs": [
    {
     "name": "stdout",
     "output_type": "stream",
     "text": [
      "[-0.1        -0.1        -0.2        -0.20943951 -6.          0.\n",
      "  6.         -5.         -5.         -5.                -inf]\n"
     ]
    }
   ],
   "source": [
    "print(np.concatenate([ctrl_lb, state_lb]))\n",
    "pos_constraints = np.concatenate([ctrl_lb, state_lb])[4:7]  # state_lb[0:3]"
   ]
  },
  {
   "cell_type": "code",
   "execution_count": 82,
   "metadata": {},
   "outputs": [],
   "source": [
    "# TODO: see if we can position drone to face the correct direction and thus set x/y directions to be straight\n",
    "# Casadi operations: http://casadi.sourceforge.net/cheatsheets/python.pdf\n",
    "# def eval_state_constraints(z):\n",
    "#     rot_align_constraints = np.eye(3)  # TODO (rotate about z-axis)\n",
    "#     aligned_pos = rot_align_constraints @ z[4:7]  # rotate position\n",
    "# #     print(aligned_pos.shape, z[:4].shape)\n",
    "#     return casadi.vertcat(z[:4], aligned_pos, z[7:])"
   ]
  },
  {
   "cell_type": "code",
   "execution_count": 95,
   "metadata": {},
   "outputs": [
    {
     "name": "stdout",
     "output_type": "stream",
     "text": [
      "\n",
      "This is FORCESPRO v4.2.1, a code generator for fast numerical optimization.\n",
      "Copyright (C) embotech AG [info@embotech.com], 2013-2021. All rights reserved.\n",
      "Warning. Host platform supports FMA instructions, hence code-generation option fma_supported is set.\n",
      "Using server https://forces.embotech.com.\n"
     ]
    },
    {
     "name": "stderr",
     "output_type": "stream",
     "text": [
      "Variables 4 through 10 in stage 0 will be eliminated. Please check your nonlinear inequality constraints to make sure they remain valid. To prevent variable elimination use codeoptions.noVariableElimination = 1.\n"
     ]
    },
    {
     "name": "stdout",
     "output_type": "stream",
     "text": [
      "Server is running version v4.2.1                        [OK]\n",
      "Preparing data to be sent...                            [OK]\n",
      "Generating and compiling code...                        [OK]\n",
      "Code successfully generated in 22.71 sec.\n",
      "Downloading generated code...                           [OK]\n",
      "Package downloaded to FORCESNLPsolver.zip.\n",
      "Directory /home/alvin/drone_ws/src/hawkeye/scripts/FORCESNLPsolver/ will be overwritten. Proceed? [y]/n y\n",
      "Extracting package...                                   [OK]\n",
      "\n",
      "Code generation successfully completed. Happy solving!\n",
      "\n",
      "Your downloaded files contain the following directories:\n",
      "- include: C header files\n",
      "- interface: Matlab, Simulink and Python interfaces for your solver on the host machine\n",
      "- obj: solver object files for simulation on Linux host machine\n",
      "- lib: solver library files for simulation on Linux host machine\n",
      "\n",
      "Import the interface module FORCESNLPsolver_py and type\n",
      "    help(FORCESNLPsolver_py)\n",
      "for help on how to call the solver from a Python script.\n",
      "\n",
      " \n"
     ]
    }
   ],
   "source": [
    "import forcespro.dump\n",
    "import forcespro.nlp\n",
    "import sys\n",
    "\n",
    "# Flat quadrotor dynamics \n",
    "dt = 0.1\n",
    "state_dim = 7\n",
    "ctrl_dim = 4\n",
    "A = np.eye(state_dim)\n",
    "A[0:3, 3:6] = np.eye(3) * dt\n",
    "B = np.zeros((state_dim, ctrl_dim))\n",
    "B[:3, :3] = 0.5 * np.eye(3) * dt ** 2\n",
    "B[3:, :] = np.eye(4) * dt\n",
    "\n",
    "\n",
    "model = forcespro.nlp.SymbolicModel()  # create empty model\n",
    "model.N = N  # horizon length\n",
    "model.nvar = 4 + 7  # number of variables\n",
    "model.neq = 7  # number of equality constraints\n",
    "model.npar = 6 # number of runtime parameters\n",
    "model.objective = state_cost\n",
    "model.objectiveN = state_cost\n",
    "model.eq = lambda z: A @ z[4:] + B @ z[:4]\n",
    "model.E = np.concatenate([np.zeros((7,4)), np.eye(7)], axis=1)\n",
    "\n",
    "# State and contrl constraints\n",
    "# model.hl = np.concatenate([ctrl_lb, state_lb])\n",
    "# model.hu = np.concatenate([ctrl_ub, state_ub])\n",
    "# model.ineq = eval_state_constraints\n",
    "model.lb = np.concatenate([ctrl_lb, state_lb])\n",
    "model.ub = np.concatenate([ctrl_ub, state_ub])\n",
    "\n",
    "model.xinitidx = range(4,11) \n",
    "\n",
    "codeoptions = forcespro.CodeOptions('FORCESNLPsolver')\n",
    "codeoptions.maxit = 1000     # Maximum number of iterations\n",
    "codeoptions.printlevel = 0  # Use printlevel = 2 to print progress (but \n",
    "#                             not for timings)\n",
    "codeoptions.optlevel = 0    # 0 no optimization, 1 optimize for size, \n",
    "#                             2 optimize for speed, 3 optimize for size & speed\n",
    "codeoptions.cleanup = False\n",
    "codeoptions.timing = 1\n",
    "# codeoptions.nlp.hessian_approximation = 'bfgs'\n",
    "# codeoptions.solvemethod = 'PDIP_NLP' # choose the solver method Sequential \n",
    "#                              Quadratic Programming\n",
    "# codeoptions.sqp_nlp.maxqps = 1      # maximum number of quadratic problems to be solved\n",
    "# codeoptions.sqp_nlp.reg_hessian = 5e-9 # increase this if exitflag=-8\n",
    "codeoptions.nlp.bfgs_init = 3.0*np.identity(7) # initialization of the hessian approximation\n",
    "# codeoptions.noVariableElimination = 1\n",
    "\n",
    "# debugging \n",
    "tag,full_filename = forcespro.dump.save_formulation(model, codeoptions)\n",
    "\n",
    "solver = model.generate_solver(options=codeoptions)"
   ]
  },
  {
   "cell_type": "code",
   "execution_count": 99,
   "metadata": {},
   "outputs": [
    {
     "data": {
      "text/plain": [
       "'FORCESNLPsolver_LSE8O13AWO0_20214261230569592_F.json'"
      ]
     },
     "execution_count": 99,
     "metadata": {},
     "output_type": "execute_result"
    }
   ],
   "source": [
    "full_filename"
   ]
  },
  {
   "cell_type": "code",
   "execution_count": 96,
   "metadata": {},
   "outputs": [
    {
     "name": "stdout",
     "output_type": "stream",
     "text": [
      "['_Solver__is_external_file', '__class__', '__del__', '__delattr__', '__dict__', '__dir__', '__doc__', '__eq__', '__format__', '__ge__', '__getattribute__', '__gt__', '__hash__', '__init__', '__init_subclass__', '__le__', '__lt__', '__module__', '__ne__', '__new__', '__reduce__', '__reduce_ex__', '__repr__', '__setattr__', '__sizeof__', '__str__', '__subclasshook__', '__weakref__', '_info_struct_ctype', '_is_set_up', '_outputs_struct_ctype', '_params_struct_ctype', '_solver_func_ctype', 'add_output', 'add_param', 'build', 'c_headers', 'create_ctypes', 'dynamic_locally_built', 'f_eval', 'f_eval_proto', 'f_solver', 'from_definitions_file', 'from_directory', 'help', 'info_decls', 'intel_libs_dir', 'is_convex', 'is_static', 'lib_eval', 'lib_solver', 'lib_solver_static', 'load_f_eval', 'load_f_solver', 'name', 'output_decls', 'param_decls', 'preload_dynamic_libraries', 'remove_param', 'root', 'setup', 'solve', 'static_locally_built', 'store_eval_definitions']\n"
     ]
    },
    {
     "name": "stderr",
     "output_type": "stream",
     "text": [
      "FORCESPRO took 112 iterations and 0.019605145 seconds to solve the problem.\n"
     ]
    }
   ],
   "source": [
    "# https://forces.embotech.com/Documentation/solver_options/index.html?highlight=pdip_nlp\n",
    "# Set initial condition\n",
    "z0i = np.zeros((model.nvar,1))\n",
    "z0 = np.transpose(np.tile(z0i, (1, model.N)))\n",
    "problem = {\"x0\": z0,\n",
    "           \"xinit\": x0}\n",
    "\n",
    "# Set runtime parameters (here, the next N points on the path)\n",
    "horizon_inputs = np.zeros((model.N, model.npar))\n",
    "horizon_inputs[:, 3:] = pix_3d\n",
    "horizon_inputs[:, :3] = target_traj\n",
    "problem[\"all_parameters\"] = np.reshape(horizon_inputs, (-1, 1))\n",
    "\n",
    "# Time to solve the NLP!\n",
    "print(dir(solver))\n",
    "output, exitflag, info = solver.solve(problem)\n",
    "\n",
    "# Make sure the solver has exited properly.\n",
    "assert exitflag == 1, \"bad exitflag\"\n",
    "sys.stderr.write(\"FORCESPRO took {} iterations and {} seconds to solve the problem.\\n\"\\\n",
    "    .format(info.it, info.solvetime))\n",
    "\n",
    "# Extract output\n",
    "temp = np.zeros((model.N, model.nvar))\n",
    "for i in range(0, model.N):\n",
    "    temp[i, :] = output['x{0:02d}'.format(i+1)]\n",
    "U_mpc = temp[:, :4]\n",
    "X_mpc = temp[:, 4:]"
   ]
  },
  {
   "cell_type": "code",
   "execution_count": 97,
   "metadata": {},
   "outputs": [
    {
     "data": {
      "text/plain": [
       "array([[ 0.02089381,  0.02530667,  7.99154234],\n",
       "       [-0.39903904,  0.17732435,  7.8673352 ],\n",
       "       [-1.42638341,  0.69195646,  7.52305741],\n",
       "       [-2.66432805,  1.61698595,  7.00307621],\n",
       "       [-3.83561997,  2.88422384,  6.34260275],\n",
       "       [-4.78033956,  4.34621561,  5.57106369],\n",
       "       [-5.4478851 ,  5.83024654,  4.71498919],\n",
       "       [-5.87766227,  7.19875055,  3.79963803],\n",
       "       [-6.160386  ,  8.39998019,  2.84891699],\n",
       "       [-6.38471123,  9.48395382,  1.8829926 ]])"
      ]
     },
     "execution_count": 97,
     "metadata": {},
     "output_type": "execute_result"
    }
   ],
   "source": [
    "X_mpc[:, :3]"
   ]
  },
  {
   "cell_type": "code",
   "execution_count": 98,
   "metadata": {},
   "outputs": [
    {
     "data": {
      "application/vnd.jupyter.widget-view+json": {
       "model_id": "3db861db45314dcdb6cd5cc81f2e3966",
       "version_major": 2,
       "version_minor": 0
      },
      "text/plain": [
       "Canvas(toolbar=Toolbar(toolitems=[('Home', 'Reset original view', 'home', 'home'), ('Back', 'Back to previous …"
      ]
     },
     "metadata": {},
     "output_type": "display_data"
    },
    {
     "name": "stdout",
     "output_type": "stream",
     "text": [
      "[0.7883263604479005, 0.46650359121892887, 0.0010596015757493582]\n",
      "[7.88327183e-01 1.62825303e-04 1.66669236e-03]\n"
     ]
    }
   ],
   "source": [
    "fig = plt.figure()\n",
    "ax = fig.gca(projection='3d')\n",
    "ax.set_xlabel('X')\n",
    "ax.set_ylabel('Y')\n",
    "ax.set_zlabel('Z')\n",
    "target_x = [data[\"target_traj\"][i][0] for i in range(len(data[\"target_traj\"]))]\n",
    "target_y = [data[\"target_traj\"][i][1] for i in range(len(data[\"target_traj\"]))]\n",
    "target_z = [data[\"target_traj\"][i][2] for i in range(len(data[\"target_traj\"]))]\n",
    "ax.plot(target_x, target_y, target_z, label='target path')\n",
    "for target_pos in data[\"target_traj\"]:\n",
    "    draw_coordinate_frame(ax, T=target_pos, R=np.eye(3))\n",
    "    \n",
    "ax.plot(X_mpc[:,0], X_mpc[:,1], X_mpc[:,2], label='drone path')\n",
    "for i in range(X_mpc.shape[0]):\n",
    "    rot = Rotation.from_euler(\"ZYX\", [X_mpc[i, -1], 0, 0]).as_matrix()\n",
    "    draw_coordinate_frame(ax, T=X_mpc[i, :3], R=rot)\n",
    "    desired_vec = rot @ pix_3d\n",
    "    t = project_to_plane(X_mpc[i, :3], desired_vec)\n",
    "    draw_vec(ax, X_mpc[i, :3], desired_vec*t + X_mpc[i, :3], color='g')\n",
    "draw_coordinate_frame(ax, T=T, R=R.as_matrix())\n",
    "\n",
    "# vec from drone to target\n",
    "true_vec = data[\"target_traj\"][0] - x0[:3]\n",
    "draw_vec(ax, x0[:3], data[\"target_traj\"][0], color='r')\n",
    "\n",
    "# desired vec (center of image plane)\n",
    "yaw = x0[-1]\n",
    "vel = np.array([x0[3], x0[4], x0[5]])\n",
    "vel = vel / np.linalg.norm(vel)\n",
    "theta = math.asin(-vel[1])  # pitch\n",
    "print([yaw, theta, phi])\n",
    "print(R.as_euler(\"ZYX\"))\n",
    "fake_R = Rotation.from_euler('ZYX', [yaw, 0, 0])\n",
    "desired_vec = fake_R.as_matrix() @ pix_3d\n",
    "t = project_to_plane(T, desired_vec)\n",
    "draw_vec(ax, T, desired_vec*t + T, color='g')\n",
    "\n",
    "ax.legend()\n",
    "plt.show()"
   ]
  },
  {
   "cell_type": "code",
   "execution_count": null,
   "metadata": {},
   "outputs": [],
   "source": []
  },
  {
   "cell_type": "code",
   "execution_count": null,
   "metadata": {},
   "outputs": [],
   "source": []
  }
 ],
 "metadata": {
  "kernelspec": {
   "display_name": "Python 3",
   "language": "python",
   "name": "python3"
  },
  "language_info": {
   "codemirror_mode": {
    "name": "ipython",
    "version": 3
   },
   "file_extension": ".py",
   "mimetype": "text/x-python",
   "name": "python",
   "nbconvert_exporter": "python",
   "pygments_lexer": "ipython3",
   "version": "3.6.9"
  }
 },
 "nbformat": 4,
 "nbformat_minor": 4
}
