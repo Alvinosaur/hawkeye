{
 "cells": [
  {
   "cell_type": "code",
   "execution_count": 62,
   "metadata": {},
   "outputs": [],
   "source": [
    "import numpy as np\n",
    "import scipy.signal\n",
    "import scipy.optimize\n",
    "import matplotlib.pyplot as plt\n",
    "%matplotlib inline\n",
    "\n"
   ]
  },
  {
   "cell_type": "code",
   "execution_count": 221,
   "metadata": {},
   "outputs": [],
   "source": [
    "# G = scipy.signal.lti([1], [15, 8, 1])\n",
    "# continuous dynamics\n",
    "# 2 x 2\n",
    "A = np.array([\n",
    "    [0, 1.0],\n",
    "    [0, 0.0]\n",
    "])\n",
    "# 2 x 1\n",
    "B = np.array([\n",
    "    [0], \n",
    "    [1.0]\n",
    "])\n",
    "# 1 x 2\n",
    "C = np.array([[1, 0.0]])\n",
    "D = np.array([[0.0]])\n",
    "G = scipy.signal.StateSpace(A, B, C, D)\n",
    "n = 2\n",
    "m = 1\n",
    "x = np.ones((n, 1))\n",
    "u = np.ones((m, 1))"
   ]
  },
  {
   "cell_type": "code",
   "execution_count": 222,
   "metadata": {},
   "outputs": [
    {
     "name": "stdout",
     "output_type": "stream",
     "text": [
      "(2, 1)\n",
      "(2, 1)\n",
      "(1, 1)\n",
      "(1, 1)\n"
     ]
    }
   ],
   "source": [
    "print((A @ x).shape)\n",
    "print((B @ u).shape)\n",
    "print((C @ x).shape)\n",
    "print((D @ u).shape)"
   ]
  },
  {
   "cell_type": "code",
   "execution_count": 223,
   "metadata": {},
   "outputs": [
    {
     "data": {
      "text/plain": [
       "StateSpaceContinuous(\n",
       "array([[0., 1.],\n",
       "       [0., 0.]]),\n",
       "array([[0.],\n",
       "       [1.]]),\n",
       "array([[1., 0.]]),\n",
       "array([[0.]]),\n",
       "dt: None\n",
       ")"
      ]
     },
     "execution_count": 223,
     "metadata": {},
     "output_type": "execute_result"
    }
   ],
   "source": [
    "G\n"
   ]
  },
  {
   "cell_type": "code",
   "execution_count": 207,
   "metadata": {},
   "outputs": [],
   "source": [
    "# plt.plot()\n",
    "# G.step()[1]\n"
   ]
  },
  {
   "cell_type": "code",
   "execution_count": 224,
   "metadata": {},
   "outputs": [],
   "source": [
    "M = 10  # Control horizon\n",
    "P = 20  # Prediction horizon\n",
    "DeltaT = 1  # Sampling rate"
   ]
  },
  {
   "cell_type": "code",
   "execution_count": 225,
   "metadata": {},
   "outputs": [],
   "source": [
    "tcontinuous = np.linspace(0, P*DeltaT, 1000)  # some closely spaced time points\n",
    "tpredict = np.arange(0, P*DeltaT, DeltaT)   # discrete points at prediction horizo"
   ]
  },
  {
   "cell_type": "code",
   "execution_count": 226,
   "metadata": {},
   "outputs": [
    {
     "data": {
      "text/plain": [
       "array([ 0,  1,  2,  3,  4,  5,  6,  7,  8,  9, 10, 11, 12, 13, 14, 15, 16,\n",
       "       17, 18, 19])"
      ]
     },
     "execution_count": 226,
     "metadata": {},
     "output_type": "execute_result"
    }
   ],
   "source": [
    "tpredict"
   ]
  },
  {
   "cell_type": "code",
   "execution_count": 227,
   "metadata": {},
   "outputs": [],
   "source": [
    "tau_c = 1\n",
    "r = 1 - np.exp(-tpredict/tau_c)"
   ]
  },
  {
   "cell_type": "code",
   "execution_count": 249,
   "metadata": {},
   "outputs": [],
   "source": [
    "u = np.ones((M, m))\n",
    "u_extra = np.repeat(u[-1, :].reshape(1,m), P-M, axis=0)\n",
    "# u[:, -1].reshape(3,1)"
   ]
  },
  {
   "cell_type": "code",
   "execution_count": 250,
   "metadata": {},
   "outputs": [
    {
     "data": {
      "text/plain": [
       "array([[1.],\n",
       "       [1.],\n",
       "       [1.],\n",
       "       [1.],\n",
       "       [1.],\n",
       "       [1.],\n",
       "       [1.],\n",
       "       [1.],\n",
       "       [1.],\n",
       "       [1.],\n",
       "       [1.],\n",
       "       [1.],\n",
       "       [1.],\n",
       "       [1.],\n",
       "       [1.],\n",
       "       [1.],\n",
       "       [1.],\n",
       "       [1.],\n",
       "       [1.],\n",
       "       [1.]])"
      ]
     },
     "execution_count": 250,
     "metadata": {},
     "output_type": "execute_result"
    }
   ],
   "source": [
    "np.vstack([u, u_extra])"
   ]
  },
  {
   "cell_type": "code",
   "execution_count": 230,
   "metadata": {},
   "outputs": [],
   "source": [
    "x0 = np.zeros(G.to_ss().A.shape[0])\n",
    "\n"
   ]
  },
  {
   "cell_type": "code",
   "execution_count": 243,
   "metadata": {},
   "outputs": [],
   "source": [
    "def extend(u):\n",
    "    \"\"\"We optimise the first M values of u but we need P values for prediction\"\"\"\n",
    "    u_repeat = np.repeat(u[-1, :].reshape(1,m), P-M, axis=0)\n",
    "    return np.vstack([u, u_repeat])"
   ]
  },
  {
   "cell_type": "code",
   "execution_count": 244,
   "metadata": {},
   "outputs": [],
   "source": [
    "def prediction(u, t=tpredict, x0=x0):\n",
    "    \"\"\"Predict the effect of an input signal\"\"\"\n",
    "    t, y, x = scipy.signal.lsim(G, u, t, x0)\n",
    "    return x"
   ]
  },
  {
   "cell_type": "code",
   "execution_count": 245,
   "metadata": {},
   "outputs": [
    {
     "data": {
      "text/plain": [
       "array([[  0. ,   0. ],\n",
       "       [  0.5,   1. ],\n",
       "       [  2. ,   2. ],\n",
       "       [  4.5,   3. ],\n",
       "       [  8. ,   4. ],\n",
       "       [ 12.5,   5. ],\n",
       "       [ 18. ,   6. ],\n",
       "       [ 24.5,   7. ],\n",
       "       [ 32. ,   8. ],\n",
       "       [ 40.5,   9. ],\n",
       "       [ 50. ,  10. ],\n",
       "       [ 60.5,  11. ],\n",
       "       [ 72. ,  12. ],\n",
       "       [ 84.5,  13. ],\n",
       "       [ 98. ,  14. ],\n",
       "       [112.5,  15. ],\n",
       "       [128. ,  16. ],\n",
       "       [144.5,  17. ],\n",
       "       [162. ,  18. ],\n",
       "       [180.5,  19. ]])"
      ]
     },
     "execution_count": 245,
     "metadata": {},
     "output_type": "execute_result"
    }
   ],
   "source": [
    "prediction(extend(u))"
   ]
  },
  {
   "cell_type": "code",
   "execution_count": 273,
   "metadata": {},
   "outputs": [
    {
     "data": {
      "text/plain": [
       "[<matplotlib.lines.Line2D at 0x7ff01c688550>]"
      ]
     },
     "execution_count": 273,
     "metadata": {},
     "output_type": "execute_result"
    },
    {
     "data": {
      "image/png": "[encoded data removed]",
      "text/plain": [
       "<Figure size 432x288 with 1 Axes>"
      ]
     },
     "metadata": {
      "needs_background": "light"
     },
     "output_type": "display_data"
    }
   ],
   "source": [
    "plt.plot(tpredict, prediction(extend(u))[:,0])"
   ]
  },
  {
   "cell_type": "code",
   "execution_count": 264,
   "metadata": {},
   "outputs": [],
   "source": [
    "def objective(u, x0=x0):\n",
    "    u = u.reshape((M, m))\n",
    "    x = prediction(extend(u))\n",
    "    umag = np.abs(u)\n",
    "    constraintpenalty = sum(umag[umag > 2])\n",
    "    movepenalty = np.sum(np.abs(np.diff(u)))\n",
    "    strongfinish = np.abs(x[-1, 0] - r[-1])\n",
    "    return sum((r - x[:, 0])**2) + 0.1*constraintpenalty + 0.1*movepenalty + 0*strongfinish\n",
    "\n"
   ]
  },
  {
   "cell_type": "code",
   "execution_count": 268,
   "metadata": {},
   "outputs": [
    {
     "data": {
      "text/plain": [
       "0.01687040356173669"
      ]
     },
     "execution_count": 268,
     "metadata": {},
     "output_type": "execute_result"
    }
   ],
   "source": [
    "result = scipy.optimize.minimize(objective, u)\n",
    "uopt = result.x.reshape((M, m))\n",
    "result.fun"
   ]
  },
  {
   "cell_type": "code",
   "execution_count": 269,
   "metadata": {},
   "outputs": [
    {
     "data": {
      "text/plain": [
       "array([[ 1.98646136e+00],\n",
       "       [-6.08143241e-01],\n",
       "       [-5.75774768e-01],\n",
       "       [ 2.94618202e-01],\n",
       "       [-1.04610829e-02],\n",
       "       [-1.51729668e-01],\n",
       "       [ 2.87236022e-02],\n",
       "       [ 7.20739642e-02],\n",
       "       [-4.53180144e-02],\n",
       "       [ 4.46816063e-04]])"
      ]
     },
     "execution_count": 269,
     "metadata": {},
     "output_type": "execute_result"
    }
   ],
   "source": [
    "uopt"
   ]
  },
  {
   "cell_type": "code",
   "execution_count": 270,
   "metadata": {},
   "outputs": [],
   "source": [
    "ucont = extend(uopt)[((tcontinuous-0.01)//DeltaT).astype(int)]"
   ]
  },
  {
   "cell_type": "code",
   "execution_count": 276,
   "metadata": {},
   "outputs": [],
   "source": [
    "def plotoutput(ucont, uopt):\n",
    "    plt.figure()\n",
    "    plt.plot(tcontinuous, ucont)\n",
    "    plt.xlim([0, DeltaT*(P+1)])\n",
    "    plt.figure()\n",
    "#     plt.plot(tcontinuous, prediction(ucont, tcontinuous)[:,0], label='Continuous response')\n",
    "    plt.plot(tpredict, prediction(extend(uopt))[:,0], '-o', label='Optimized response')\n",
    "    plt.plot(tpredict, r, label='Set point')\n",
    "    plt.legend()"
   ]
  },
  {
   "cell_type": "code",
   "execution_count": 277,
   "metadata": {},
   "outputs": [
    {
     "data": {
      "image/png": "[encoded data removed]",
      "text/plain": [
       "<Figure size 432x288 with 1 Axes>"
      ]
     },
     "metadata": {
      "needs_background": "light"
     },
     "output_type": "display_data"
    },
    {
     "data": {
      "image/png": "[encoded data removed]",
      "text/plain": [
       "<Figure size 432x288 with 1 Axes>"
      ]
     },
     "metadata": {
      "needs_background": "light"
     },
     "output_type": "display_data"
    }
   ],
   "source": [
    "plotoutput(ucont, uopt)"
   ]
  },
  {
   "cell_type": "code",
   "execution_count": null,
   "metadata": {},
   "outputs": [],
   "source": []
  },
  {
   "cell_type": "code",
   "execution_count": null,
   "metadata": {},
   "outputs": [],
   "source": []
  }
 ],
 "metadata": {
  "kernelspec": {
   "display_name": "Python 3",
   "language": "python",
   "name": "python3"
  },
  "language_info": {
   "codemirror_mode": {
    "name": "ipython",
    "version": 3
   },
   "file_extension": ".py",
   "mimetype": "text/x-python",
   "name": "python",
   "nbconvert_exporter": "python",
   "pygments_lexer": "ipython3",
   "version": "3.6.9"
  }
 },
 "nbformat": 4,
 "nbformat_minor": 4
}
