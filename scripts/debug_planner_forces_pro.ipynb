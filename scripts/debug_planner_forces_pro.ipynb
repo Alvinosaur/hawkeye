{
 "cells": [
  {
   "cell_type": "code",
   "execution_count": 1,
   "metadata": {},
   "outputs": [],
   "source": [
    "%matplotlib widget\n",
    "\n",
    "from mpl_toolkits import mplot3d\n",
    "\n",
    "import time\n",
    "import math\n",
    "import numpy as np\n",
    "import matplotlib.pyplot as plt\n",
    "from mpl_toolkits.mplot3d import axes3d\n",
    "from matplotlib.patches import FancyArrowPatch\n",
    "from mpl_toolkits.mplot3d import proj3d\n",
    "\n",
    "arrow_prop_dict = dict(mutation_scale=20, arrowstyle='->', shrinkA=0, shrinkB=0)\n",
    "class Arrow3D(FancyArrowPatch):\n",
    "    def __init__(self, xs, ys, zs, *args, **kwargs):\n",
    "        FancyArrowPatch.__init__(self, (0, 0), (0, 0), *args, **kwargs)\n",
    "        self._verts3d = xs, ys, zs\n",
    "\n",
    "    def draw(self, renderer):\n",
    "        xs3d, ys3d, zs3d = self._verts3d\n",
    "        xs, ys, zs = proj3d.proj_transform(xs3d, ys3d, zs3d, renderer.M)\n",
    "        self.set_positions((xs[0], ys[0]), (xs[1], ys[1]))\n",
    "        FancyArrowPatch.draw(self, renderer)\n",
    "\n",
    "def draw_coordinate_frame(ax, T, R):\n",
    "    tx, ty, tz = T\n",
    "    new_x = R @ np.array([1, 0, 0.0]) + T\n",
    "    new_y = R @ np.array([0, 1, 0.0]) + T\n",
    "    new_z = R @ np.array([0, 0, 1.0]) + T\n",
    "    \n",
    "    a = Arrow3D([tx, new_x[0]], [ty, new_x[1]], [tz, new_x[2]], **arrow_prop_dict, color='r')\n",
    "    ax.add_artist(a)\n",
    "    a = Arrow3D([tx, new_y[0]], [ty, new_y[1]], [tz, new_y[2]], **arrow_prop_dict, color='b')\n",
    "    ax.add_artist(a)\n",
    "    a = Arrow3D([tx, new_z[0]], [ty, new_z[1]], [tz, new_z[2]], **arrow_prop_dict, color='g')\n",
    "    ax.add_artist(a)\n",
    "    \n",
    "def draw_vec(ax, p1, p2, color):\n",
    "    a = Arrow3D([p1[0], p2[0]], [p1[1], p2[1]], [p1[2], p2[2]], **arrow_prop_dict, color=color)\n",
    "    ax.add_artist(a)"
   ]
  },
  {
   "cell_type": "code",
   "execution_count": 2,
   "metadata": {},
   "outputs": [],
   "source": [
    "def project_to_plane(origin, vec):\n",
    "    ground_normal, ground_point = np.array([0, 0, 1]), np.array([0, 0, 0])\n",
    "    t = (-ground_normal @ (origin - ground_point)) / (ground_normal @ vec)\n",
    "    return t"
   ]
  },
  {
   "cell_type": "code",
   "execution_count": 11,
   "metadata": {},
   "outputs": [
    {
     "name": "stdout",
     "output_type": "stream",
     "text": [
      "(10, 3)\n",
      "[[1.  0.  0.  0.1 0.  0.  0. ]\n",
      " [0.  1.  0.  0.  0.1 0.  0. ]\n",
      " [0.  0.  1.  0.  0.  0.1 0. ]\n",
      " [0.  0.  0.  1.  0.  0.  0. ]\n",
      " [0.  0.  0.  0.  1.  0.  0. ]\n",
      " [0.  0.  0.  0.  0.  1.  0. ]\n",
      " [0.  0.  0.  0.  0.  0.  1. ]]\n",
      "[[0.005 0.    0.    0.   ]\n",
      " [0.    0.005 0.    0.   ]\n",
      " [0.    0.    0.005 0.   ]\n",
      " [0.1   0.    0.    0.   ]\n",
      " [0.    0.1   0.    0.   ]\n",
      " [0.    0.    0.1   0.   ]\n",
      " [0.    0.    0.    0.1  ]]\n"
     ]
    }
   ],
   "source": [
    "from drone_mpc import DroneMPC\n",
    "from scipy.spatial.transform import Rotation\n",
    "\n",
    "data = np.load(\"../rosbags/drone_target_sample.npz\", allow_pickle=True)\n",
    "x0 = data[\"drone_x\"]\n",
    "T = x0[:3]\n",
    "\n",
    "q0 = data[\"drone_q\"]\n",
    "R = Rotation.from_quat(q0)\n",
    "\n",
    "N = 10\n",
    "pix_3d = data[\"pixel_drone\"]\n",
    "target_traj = data[\"target_traj\"]\n",
    "print(target_traj.shape)\n",
    "con = DroneMPC(N=N)\n",
    "\n",
    "\n",
    "phi = R.as_euler(\"XYZ\")[0]\n",
    "user_sq_dist = 0.5"
   ]
  },
  {
   "cell_type": "code",
   "execution_count": 4,
   "metadata": {},
   "outputs": [
    {
     "name": "stdout",
     "output_type": "stream",
     "text": [
      "time taken: 12.398s\n"
     ]
    }
   ],
   "source": [
    "start_time = time.time()\n",
    "X_mpc, U_mpc = con.solve(\n",
    "    x0=x0, u0=None, target_pixel=pix_3d,\n",
    "    phi0=phi, target_traj=target_traj, user_sq_dist=user_sq_dist)\n",
    "print(\"time taken: %.3fs\" % (time.time() - start_time))"
   ]
  },
  {
   "cell_type": "code",
   "execution_count": 28,
   "metadata": {},
   "outputs": [],
   "source": [
    "import casadi\n",
    "\n",
    "def norm(vec):\n",
    "    return (vec[0]**2 + vec[1]**2 + vec[2]**2)**0.5\n",
    "\n",
    "def state_cost(z, args):\n",
    "    \"\"\"\n",
    "    target_pixel is the 3D coordinate of a pixel in the drone's frame. Needs to be\n",
    "    transformed into world frame\n",
    "    \"\"\"\n",
    "    xt_target, target_pixel = args[:3], args[3:]\n",
    "    xt = z[4:]\n",
    "    u = z[:4]\n",
    "    yaw = xt[-1]\n",
    "    # TODO: Check if np and Rotation can handle these variables\n",
    "    # vel = np.array([xt[3], xt[4], xt[5]])\n",
    "    # vel = vel / np.linalg.norm(vel)\n",
    "    # # TODO: check if vel[1] or [2]!!\n",
    "    # theta = math.asin(-vel[2])  # pitch\n",
    "    # phi = 0  # cannot be determined from velocity\n",
    "    # (R @ X + T) - T\n",
    "\n",
    "    # TODO: convert all to float16\n",
    "    # try https://cupy.dev/\n",
    "    # try https://scikit-cuda.readthedocs.io/en/latest/\n",
    "    # try cython\n",
    "    # convert python to c+\n",
    "    rot = np.array([\n",
    "        [1, 0, 0.0],\n",
    "        [0, casadi.cos(yaw), -casadi.sin(yaw)],\n",
    "        [0, casadi.sin(yaw), casadi.cos(yaw)]\n",
    "    ])\n",
    "    # desired 3D vector through center pixel of image\n",
    "    vec_target = casadi.mtimes(rot, target_pixel)\n",
    "    vec_target = vec_target / norm(vec_target)\n",
    "    \n",
    "    # actual 3D vector from drone camera center to target\n",
    "    vec_cur = xt_target - xt[:3]\n",
    "    vec_cur = vec_cur / norm(vec_cur)\n",
    "\n",
    "    # want vectors to align (dot-prod = +1)\n",
    "    viewpoint_cost = (1 - casadi.mtimes(vec_target.T, vec_cur)) ** 2\n",
    "    \n",
    "    # maintain desired height\n",
    "    desired_height_cost = (xt[0] - 8) ** 2\n",
    "    \n",
    "    # maintain desired horiz distance from target\n",
    "    horiz_dist = (xt[0] - xt_target[0]) ** 2 + (xt[1] - xt_target[1]) ** 2\n",
    "    desired_horiz_dist = 22\n",
    "    desired_dist_cost = (desired_horiz_dist - horiz_dist) ** 2\n",
    "    \n",
    "    R = np.diag([1, 1, 1, 0.001])\n",
    "    control_cost = casadi.mtimes([u.T, R, u])\n",
    "    \n",
    "    return 100 * viewpoint_cost + desired_height_cost + desired_dist_cost + 0.01 * control_cost"
   ]
  },
  {
   "cell_type": "code",
   "execution_count": 29,
   "metadata": {},
   "outputs": [
    {
     "name": "stdout",
     "output_type": "stream",
     "text": [
      "\n",
      "This is FORCESPRO v4.2.1, a code generator for fast numerical optimization.\n",
      "Copyright (C) embotech AG [info@embotech.com], 2013-2021. All rights reserved.\n",
      "Warning. Host platform supports FMA instructions, hence code-generation option fma_supported is set.\n",
      "Using server https://forces.embotech.com.\n"
     ]
    },
    {
     "name": "stderr",
     "output_type": "stream",
     "text": [
      "Variables 4 through 10 in stage 0 will be eliminated. Please check your nonlinear inequality constraints to make sure they remain valid. To prevent variable elimination use codeoptions.noVariableElimination = 1.\n"
     ]
    },
    {
     "name": "stdout",
     "output_type": "stream",
     "text": [
      "Server is running version v4.2.1                        [OK]\n",
      "Preparing data to be sent...                            [OK]\n",
      "Generating and compiling code...                        [OK]\n",
      "Code successfully generated in 22.95 sec.\n",
      "Downloading generated code...                           [OK]\n",
      "Package downloaded to FORCESNLPsolver.zip.\n",
      "Directory /home/alvin/drone_ws/src/hawkeye/scripts/FORCESNLPsolver/ will be overwritten. Proceed? [y]/n y\n",
      "Extracting package...                                   [OK]\n",
      "\n",
      "Code generation successfully completed. Happy solving!\n",
      "\n",
      "Your downloaded files contain the following directories:\n",
      "- include: C header files\n",
      "- interface: Matlab, Simulink and Python interfaces for your solver on the host machine\n",
      "- obj: solver object files for simulation on Linux host machine\n",
      "- lib: solver library files for simulation on Linux host machine\n",
      "\n",
      "Import the interface module FORCESNLPsolver_py and type\n",
      "    help(FORCESNLPsolver_py)\n",
      "for help on how to call the solver from a Python script.\n",
      "\n",
      " \n"
     ]
    }
   ],
   "source": [
    "import forcespro.dump\n",
    "import forcespro.nlp\n",
    "import casadi\n",
    "import sys\n",
    "\n",
    "# Flat quadrotor dynamics \n",
    "dt = 0.1\n",
    "state_dim = 7\n",
    "ctrl_dim = 4\n",
    "A = np.eye(state_dim)\n",
    "A[0:3, 3:6] = np.eye(3) * dt\n",
    "B = np.zeros((state_dim, ctrl_dim))\n",
    "B[:3, :3] = 0.5 * np.eye(3) * dt ** 2\n",
    "B[3:, :] = np.eye(4) * dt\n",
    "\n",
    "\n",
    "model = forcespro.nlp.SymbolicModel()  # create empty model\n",
    "model.N = 10  # horizon length\n",
    "model.nvar = 4 + 7  # number of variables\n",
    "model.neq = 7  # number of equality constraints\n",
    "model.npar = 6 # number of runtime parameters\n",
    "model.objective = state_cost\n",
    "model.objectiveN = state_cost\n",
    "model.eq = lambda z: A @ z[4:] + B @ z[:4]\n",
    "model.E = np.concatenate([np.zeros((7,4)), np.eye(7)], axis=1)\n",
    "\n",
    "model.xinitidx = range(4,11) \n",
    "\n",
    "codeoptions = forcespro.CodeOptions('FORCESNLPsolver')\n",
    "codeoptions.maxit = 200     # Maximum number of iterations\n",
    "codeoptions.printlevel = 0  # Use printlevel = 2 to print progress (but \n",
    "#                             not for timings)\n",
    "codeoptions.optlevel = 0    # 0 no optimization, 1 optimize for size, \n",
    "#                             2 optimize for speed, 3 optimize for size & speed\n",
    "codeoptions.cleanup = False\n",
    "codeoptions.timing = 1\n",
    "codeoptions.nlp.hessian_approximation = 'bfgs'\n",
    "codeoptions.solvemethod = 'PDIP_NLP' # choose the solver method Sequential \n",
    "#                              Quadratic Programming\n",
    "codeoptions.nlp.bfgs_init = 2.5*np.identity(7)\n",
    "codeoptions.sqp_nlp.maxqps = 1      # maximum number of quadratic problems to be solved\n",
    "codeoptions.sqp_nlp.reg_hessian = 5e-9 # increase this if exitflag=-8\n",
    "\n",
    "# debugging \n",
    "tag,full_filename = forcespro.dump.save_formulation(model, codeoptions)\n",
    "\n",
    "solver = model.generate_solver(options=codeoptions)"
   ]
  },
  {
   "cell_type": "code",
   "execution_count": 25,
   "metadata": {},
   "outputs": [
    {
     "data": {
      "text/plain": [
       "'FORCESNLPsolver_E7LTFAWQ7MV_20214269392815995_F.json'"
      ]
     },
     "execution_count": 25,
     "metadata": {},
     "output_type": "execute_result"
    }
   ],
   "source": [
    "full_filename"
   ]
  },
  {
   "cell_type": "code",
   "execution_count": 30,
   "metadata": {},
   "outputs": [
    {
     "name": "stdout",
     "output_type": "stream",
     "text": [
      "['_Solver__is_external_file', '__class__', '__del__', '__delattr__', '__dict__', '__dir__', '__doc__', '__eq__', '__format__', '__ge__', '__getattribute__', '__gt__', '__hash__', '__init__', '__init_subclass__', '__le__', '__lt__', '__module__', '__ne__', '__new__', '__reduce__', '__reduce_ex__', '__repr__', '__setattr__', '__sizeof__', '__str__', '__subclasshook__', '__weakref__', '_info_struct_ctype', '_is_set_up', '_outputs_struct_ctype', '_params_struct_ctype', '_solver_func_ctype', 'add_output', 'add_param', 'build', 'c_headers', 'create_ctypes', 'dynamic_locally_built', 'f_eval', 'f_eval_proto', 'f_solver', 'from_definitions_file', 'from_directory', 'help', 'info_decls', 'intel_libs_dir', 'is_convex', 'is_static', 'lib_eval', 'lib_solver', 'lib_solver_static', 'load_f_eval', 'load_f_solver', 'name', 'output_decls', 'param_decls', 'preload_dynamic_libraries', 'remove_param', 'root', 'setup', 'solve', 'static_locally_built', 'store_eval_definitions']\n"
     ]
    },
    {
     "name": "stderr",
     "output_type": "stream",
     "text": [
      "FORCESPRO took 112 iterations and 0.011353304 seconds to solve the problem.\n"
     ]
    }
   ],
   "source": [
    "# https://forces.embotech.com/Documentation/solver_options/index.html?highlight=pdip_nlp\n",
    "# Set initial condition\n",
    "z0i = np.zeros((model.nvar,1))\n",
    "z0 = np.transpose(np.tile(z0i, (1, model.N)))\n",
    "problem = {\"x0\": z0,\n",
    "           \"xinit\": x0}\n",
    "\n",
    "# Set runtime parameters (here, the next N points on the path)\n",
    "horizon_inputs = np.zeros((model.N, model.npar))\n",
    "horizon_inputs[:, 3:] = pix_3d\n",
    "horizon_inputs[:, :3] = target_traj\n",
    "problem[\"all_parameters\"] = np.reshape(horizon_inputs, (-1, 1))\n",
    "\n",
    "# Time to solve the NLP!\n",
    "print(dir(solver))\n",
    "output, exitflag, info = solver.solve(problem)\n",
    "\n",
    "# Make sure the solver has exited properly.\n",
    "assert exitflag == 1, \"bad exitflag\"\n",
    "sys.stderr.write(\"FORCESPRO took {} iterations and {} seconds to solve the problem.\\n\"\\\n",
    "    .format(info.it, info.solvetime))\n",
    "\n",
    "# Extract output\n",
    "temp = np.zeros((model.N, model.nvar))\n",
    "for i in range(0, model.N):\n",
    "    temp[i, :] = output['x{0:02d}'.format(i+1)]\n",
    "U_mpc = temp[:, 0:4]\n",
    "X_mpc = temp[:, 4:]\n",
    "\n",
    "# Apply optimized input u of first stage to system and save simulation data\n",
    "# u[:,k] = pred_u[:,0]\n",
    "# x[:,k+1] = np.transpose(model.eq(np.concatenate((u[:,k],x[:,k]))))"
   ]
  },
  {
   "cell_type": "code",
   "execution_count": 22,
   "metadata": {},
   "outputs": [
    {
     "data": {
      "text/plain": [
       "array([[ 2.08938140e-02,  2.53066737e-02,  7.99154234e+00,\n",
       "        -1.90564711e-02, -1.27188843e-02, -1.65763628e-02,\n",
       "         7.88326360e-01],\n",
       "       [-3.99039040e-01,  1.77324348e-01,  7.86733520e+00,\n",
       "        -8.37577427e+00,  3.05166926e+00, -2.46644466e+00,\n",
       "         2.55018359e+01],\n",
       "       [-1.42638341e+00,  6.91956457e-01,  7.52305741e+00,\n",
       "        -1.21693761e+01,  7.23905560e+00, -4.41821757e+00,\n",
       "         1.40139829e+03],\n",
       "       [-2.66432805e+00,  1.61698595e+00,  7.00307621e+00,\n",
       "        -1.25893246e+01,  1.12596933e+01, -5.98069102e+00,\n",
       "         4.08666242e+02],\n",
       "       [-3.83561997e+00,  2.88422384e+00,  6.34260275e+00,\n",
       "        -1.08373160e+01,  1.40837715e+01, -7.22820685e+00,\n",
       "         1.94891462e+02],\n",
       "       [-4.78033956e+00,  4.34621561e+00,  5.57106369e+00,\n",
       "        -8.05834826e+00,  1.51555730e+01, -8.20212847e+00,\n",
       "         3.20294458e+02],\n",
       "       [-5.44788510e+00,  5.83024654e+00,  4.71498919e+00,\n",
       "        -5.29382826e+00,  1.45253342e+01, -8.91903334e+00,\n",
       "         3.76607724e+02],\n",
       "       [-5.87766227e+00,  7.19875055e+00,  3.79963803e+00,\n",
       "        -3.30262686e+00,  1.28455151e+01, -9.38777515e+00,\n",
       "         4.95688212e+02],\n",
       "       [-6.16038600e+00,  8.39998019e+00,  2.84891699e+00,\n",
       "        -2.35228283e+00,  1.11798403e+01, -9.62653633e+00,\n",
       "         5.51977708e+02],\n",
       "       [-6.38471123e+00,  9.48395382e+00,  1.88299260e+00,\n",
       "        -2.13432167e+00,  1.04999437e+01, -9.69192149e+00,\n",
       "         6.58546508e+02]])"
      ]
     },
     "execution_count": 22,
     "metadata": {},
     "output_type": "execute_result"
    }
   ],
   "source": [
    "X_mpc"
   ]
  },
  {
   "cell_type": "code",
   "execution_count": 16,
   "metadata": {},
   "outputs": [
    {
     "data": {
      "text/plain": [
       "21.878236126772958"
      ]
     },
     "execution_count": 16,
     "metadata": {},
     "output_type": "execute_result"
    }
   ],
   "source": [
    "np.linalg.norm(x0[:2] - data[\"target_traj\"][0][:2])**2"
   ]
  },
  {
   "cell_type": "code",
   "execution_count": 31,
   "metadata": {},
   "outputs": [
    {
     "data": {
      "application/vnd.jupyter.widget-view+json": {
       "model_id": "0b8848233da54d0293806f7e2b87146c",
       "version_major": 2,
       "version_minor": 0
      },
      "text/plain": [
       "Canvas(toolbar=Toolbar(toolitems=[('Home', 'Reset original view', 'home', 'home'), ('Back', 'Back to previous …"
      ]
     },
     "metadata": {},
     "output_type": "display_data"
    },
    {
     "name": "stdout",
     "output_type": "stream",
     "text": [
      "[0.7883263604479005, 0.46650359121892887, 0.0010596015757493582]\n",
      "[7.88327183e-01 1.62825303e-04 1.66669236e-03]\n"
     ]
    }
   ],
   "source": [
    "fig = plt.figure()\n",
    "ax = fig.gca(projection='3d')\n",
    "ax.set_xlabel('X')\n",
    "ax.set_ylabel('Y')\n",
    "ax.set_zlabel('Z')\n",
    "target_x = [data[\"target_traj\"][i][0] for i in range(len(data[\"target_traj\"]))]\n",
    "target_y = [data[\"target_traj\"][i][1] for i in range(len(data[\"target_traj\"]))]\n",
    "target_z = [data[\"target_traj\"][i][2] for i in range(len(data[\"target_traj\"]))]\n",
    "ax.plot(target_x, target_y, target_z, label='target path')\n",
    "for target_pos in data[\"target_traj\"]:\n",
    "    draw_coordinate_frame(ax, T=target_pos, R=np.eye(3))\n",
    "    \n",
    "ax.plot(X_mpc[:,0], X_mpc[:,1], X_mpc[:,2], label='drone path')\n",
    "for i in range(X_mpc.shape[0]):\n",
    "    rot = Rotation.from_euler(\"ZYX\", [X_mpc[i, -1], 0, 0]).as_matrix()\n",
    "    draw_coordinate_frame(ax, T=X_mpc[i, :3], R=rot)\n",
    "    desired_vec = rot @ pix_3d\n",
    "    t = project_to_plane(X_mpc[i, :3], desired_vec)\n",
    "    draw_vec(ax, X_mpc[i, :3], desired_vec*t + X_mpc[i, :3], color='g')\n",
    "draw_coordinate_frame(ax, T=T, R=R.as_matrix())\n",
    "\n",
    "# vec from drone to target\n",
    "true_vec = data[\"target_traj\"][0] - x0[:3]\n",
    "draw_vec(ax, x0[:3], data[\"target_traj\"][0], color='r')\n",
    "\n",
    "# desired vec (center of image plane)\n",
    "yaw = x0[-1]\n",
    "vel = np.array([x0[3], x0[4], x0[5]])\n",
    "vel = vel / np.linalg.norm(vel)\n",
    "theta = math.asin(-vel[1])  # pitch\n",
    "print([yaw, theta, phi])\n",
    "print(R.as_euler(\"ZYX\"))\n",
    "fake_R = Rotation.from_euler('ZYX', [yaw, 0, 0])\n",
    "desired_vec = fake_R.as_matrix() @ pix_3d\n",
    "t = project_to_plane(T, desired_vec)\n",
    "draw_vec(ax, T, desired_vec*t + T, color='g')\n",
    "\n",
    "ax.legend()\n",
    "plt.show()"
   ]
  },
  {
   "cell_type": "code",
   "execution_count": null,
   "metadata": {},
   "outputs": [],
   "source": []
  },
  {
   "cell_type": "code",
   "execution_count": null,
   "metadata": {},
   "outputs": [],
   "source": []
  }
 ],
 "metadata": {
  "kernelspec": {
   "display_name": "Python 3",
   "language": "python",
   "name": "python3"
  },
  "language_info": {
   "codemirror_mode": {
    "name": "ipython",
    "version": 3
   },
   "file_extension": ".py",
   "mimetype": "text/x-python",
   "name": "python",
   "nbconvert_exporter": "python",
   "pygments_lexer": "ipython3",
   "version": "3.6.9"
  }
 },
 "nbformat": 4,
 "nbformat_minor": 4
}
