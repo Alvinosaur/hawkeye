{
 "cells": [
  {
   "cell_type": "code",
   "execution_count": 1,
   "metadata": {},
   "outputs": [],
   "source": [
    "%matplotlib widget\n",
    "\n",
    "from mpl_toolkits import mplot3d\n",
    "\n",
    "import time\n",
    "import math\n",
    "import numpy as np\n",
    "import matplotlib.pyplot as plt\n",
    "from mpl_toolkits.mplot3d import axes3d\n",
    "from matplotlib.patches import FancyArrowPatch\n",
    "from mpl_toolkits.mplot3d import proj3d\n",
    "import matplotlib.cm as cm\n",
    "\n",
    "### Plotting code, not relevant to solver ###\n",
    "arrow_prop_dict = dict(mutation_scale=20, arrowstyle='->', shrinkA=0, shrinkB=0)\n",
    "class Arrow3D(FancyArrowPatch):\n",
    "    def __init__(self, xs, ys, zs, *args, **kwargs):\n",
    "        FancyArrowPatch.__init__(self, (0, 0), (0, 0), *args, **kwargs)\n",
    "        self._verts3d = xs, ys, zs\n",
    "\n",
    "    def draw(self, renderer):\n",
    "        xs3d, ys3d, zs3d = self._verts3d\n",
    "        xs, ys, zs = proj3d.proj_transform(xs3d, ys3d, zs3d, renderer.M)\n",
    "        self.set_positions((xs[0], ys[0]), (xs[1], ys[1]))\n",
    "        FancyArrowPatch.draw(self, renderer)\n",
    "\n",
    "def draw_coordinate_frame(ax, T, R):\n",
    "    tx, ty, tz = T\n",
    "    new_x = R @ np.array([1, 0, 0.0]) + T\n",
    "    new_y = R @ np.array([0, 1, 0.0]) + T\n",
    "    new_z = R @ np.array([0, 0, 1.0]) + T\n",
    "    \n",
    "    a = Arrow3D([tx, new_x[0]], [ty, new_x[1]], [tz, new_x[2]], **arrow_prop_dict, color='r')\n",
    "    ax.add_artist(a)\n",
    "    a = Arrow3D([tx, new_y[0]], [ty, new_y[1]], [tz, new_y[2]], **arrow_prop_dict, color='b')\n",
    "    ax.add_artist(a)\n",
    "    a = Arrow3D([tx, new_z[0]], [ty, new_z[1]], [tz, new_z[2]], **arrow_prop_dict, color='g')\n",
    "    ax.add_artist(a)\n",
    "    \n",
    "def draw_vec(ax, p1, p2, color):\n",
    "    a = Arrow3D([p1[0], p2[0]], [p1[1], p2[1]], [p1[2], p2[2]], **arrow_prop_dict, color=color)\n",
    "    ax.add_artist(a)"
   ]
  },
  {
   "cell_type": "code",
   "execution_count": 2,
   "metadata": {},
   "outputs": [],
   "source": [
    "def project_to_plane(origin, vec):\n",
    "    ground_normal, ground_point = np.array([0, 0, 1]), np.array([0, 0, 0])\n",
    "    t = (-ground_normal @ (origin - ground_point)) / (ground_normal @ vec)\n",
    "    return t"
   ]
  },
  {
   "cell_type": "code",
   "execution_count": 3,
   "metadata": {},
   "outputs": [],
   "source": [
    "data = np.load(\"all_data.npz\", allow_pickle=True)\n",
    "x_traj = data[\"x\"]\n",
    "target_trajs = data[\"target\"]\n",
    "\n",
    "data = np.load(\"../calibration/drone_target_sample.npz\", allow_pickle=True)\n",
    "pix_3d = data[\"pixel_drone\"]\n",
    "N = 5\n",
    "dt = 0.1"
   ]
  },
  {
   "cell_type": "code",
   "execution_count": 13,
   "metadata": {},
   "outputs": [
    {
     "data": {
      "application/vnd.jupyter.widget-view+json": {
       "model_id": "382b4c5e4a8a49eaaf11dafd8e0fd155",
       "version_major": 2,
       "version_minor": 0
      },
      "text/plain": [
       "Canvas(toolbar=Toolbar(toolitems=[('Home', 'Reset original view', 'home', 'home'), ('Back', 'Back to previous …"
      ]
     },
     "metadata": {},
     "output_type": "display_data"
    }
   ],
   "source": [
    "fig = plt.figure()\n",
    "ax = fig.gca(projection='3d')\n",
    "ax.set_xlabel('X')\n",
    "ax.set_ylabel('Y')\n",
    "ax.set_zlabel('Z')\n",
    "colors = cm.rainbow(np.linspace(0, 1, N+1))"
   ]
  },
  {
   "cell_type": "code",
   "execution_count": 5,
   "metadata": {},
   "outputs": [],
   "source": [
    "# from drone_mpc_forces_pro import DroneMPC as DroneMPCForces\n",
    "# drone_mpc_forces = DroneMPCForces(N=N, dt=dt, load_solver=False)"
   ]
  },
  {
   "cell_type": "code",
   "execution_count": 9,
   "metadata": {},
   "outputs": [],
   "source": [
    "from scipy.spatial.transform import Rotation\n",
    "\n",
    "output_format =  'x{0:0%dd}' % (int(math.log(N) / math.log(10)) + 1)\n",
    "\n",
    "i = 90  # 0 ... 120\n",
    "x0 = x_traj[i]\n",
    "T = x0[:3]\n",
    "\n",
    "yaw = x0[-1]\n",
    "R = Rotation.from_euler(\"XYZ\", [0, 0, yaw])\n",
    "\n",
    "target_traj = target_trajs[i][:N]  # N x 3 target positions over horizon of N\n",
    "\n",
    "# X_mpc, U_mpc = drone_mpc_forces.solve(x0, pix_3d, target_traj)\n",
    "\n",
    "\n",
    "# # Plot \n",
    "# target_x = target_traj[:, 0]\n",
    "# target_y = target_traj[:, 1]\n",
    "# target_z = target_traj[:, 2]\n",
    "# ax.plot(target_x, target_y, target_z, label='target path')\n",
    "# for i in range(N):\n",
    "#     draw_coordinate_frame(ax, T=target_traj[i, :], R=np.eye(3))\n",
    "\n",
    "# ax.plot(X_mpc[:,0], X_mpc[:,1], X_mpc[:,2], label='drone path')\n",
    "# for i in range(X_mpc.shape[0]):\n",
    "#     rot = Rotation.from_euler(\"ZYX\", [X_mpc[i, -1], 0, 0]).as_matrix()\n",
    "#     draw_coordinate_frame(ax, T=X_mpc[i, :3], R=rot)\n",
    "#     desired_vec = rot @ pix_3d\n",
    "#     t = project_to_plane(X_mpc[i, :3], desired_vec)\n",
    "#     draw_vec(ax, X_mpc[i, :3], desired_vec*t + X_mpc[i, :3], color=colors[i])\n",
    "# draw_coordinate_frame(ax, T=T, R=R.as_matrix())\n",
    "\n",
    "# # vec from drone to target\n",
    "# true_vec = target_traj[0] - x0[:3]\n",
    "# draw_vec(ax, x0[:3], target_traj[0], color='r')\n",
    "\n",
    "# # desired vec (center of image plane)\n",
    "# yaw = x0[-1]\n",
    "# vel = np.array([x0[3], x0[4], x0[5]])\n",
    "# vel = vel / np.linalg.norm(vel)\n",
    "# theta = math.asin(-vel[1])  # pitch\n",
    "# # print([yaw, theta, phi])\n",
    "# print(R.as_euler(\"ZYX\"))\n",
    "# fake_R = Rotation.from_euler('ZYX', [yaw, 0, 0])\n",
    "# desired_vec = fake_R.as_matrix() @ pix_3d\n",
    "# t = project_to_plane(T, desired_vec)\n",
    "# draw_vec(ax, T, desired_vec*t + T, color='g')\n",
    "\n",
    "# ax.legend()\n",
    "# plt.show()\n",
    "# print(X_mpc[:, :3])"
   ]
  },
  {
   "cell_type": "code",
   "execution_count": 10,
   "metadata": {},
   "outputs": [
    {
     "data": {
      "text/plain": [
       "(7,)"
      ]
     },
     "execution_count": 10,
     "metadata": {},
     "output_type": "execute_result"
    }
   ],
   "source": [
    "x0.shape"
   ]
  },
  {
   "cell_type": "code",
   "execution_count": 11,
   "metadata": {},
   "outputs": [
    {
     "name": "stdout",
     "output_type": "stream",
     "text": [
      "[[1.  0.  0.  0.1 0.  0.  0. ]\n",
      " [0.  1.  0.  0.  0.1 0.  0. ]\n",
      " [0.  0.  1.  0.  0.  0.1 0. ]\n",
      " [0.  0.  0.  1.  0.  0.  0. ]\n",
      " [0.  0.  0.  0.  1.  0.  0. ]\n",
      " [0.  0.  0.  0.  0.  1.  0. ]\n",
      " [0.  0.  0.  0.  0.  0.  1. ]]\n",
      "[[0.005 0.    0.    0.   ]\n",
      " [0.    0.005 0.    0.   ]\n",
      " [0.    0.    0.005 0.   ]\n",
      " [0.1   0.    0.    0.   ]\n",
      " [0.    0.1   0.    0.   ]\n",
      " [0.    0.    0.1   0.   ]\n",
      " [0.    0.    0.    0.1  ]]\n",
      "Time elapsed: 1.36\n"
     ]
    }
   ],
   "source": [
    "from drone_mpc import DroneMPC\n",
    "con = DroneMPC(N=N)\n",
    "start_time = time.time()\n",
    "\n",
    "X_mpc, U_mpc = con.solve(\n",
    "    x0=x0, u0=None, target_pixel=pix_3d,\n",
    "    phi0=0, target_traj=target_traj, user_sq_dist=0.5)\n",
    "print(\"Time elapsed: %.2f\" % (time.time() - start_time) )"
   ]
  },
  {
   "cell_type": "code",
   "execution_count": null,
   "metadata": {},
   "outputs": [],
   "source": [
    "X_mpc"
   ]
  },
  {
   "cell_type": "code",
   "execution_count": 14,
   "metadata": {},
   "outputs": [
    {
     "name": "stdout",
     "output_type": "stream",
     "text": [
      "[0.60942367 0.         0.        ]\n"
     ]
    }
   ],
   "source": [
    "target_x = target_traj[:, 0]\n",
    "target_y = target_traj[:, 1]\n",
    "target_z = target_traj[:, 2]\n",
    "ax.plot(target_x, target_y, target_z, label='target path')\n",
    "for i in range(N):\n",
    "    draw_coordinate_frame(ax, T=target_traj[i, :], R=np.eye(3))\n",
    "    \n",
    "ax.plot(X_mpc[:,0], X_mpc[:,1], X_mpc[:,2], label='drone path')\n",
    "for i in range(X_mpc.shape[0]):\n",
    "    rot = Rotation.from_euler(\"ZYX\", [X_mpc[i, -1], 0, 0]).as_matrix()\n",
    "    draw_coordinate_frame(ax, T=X_mpc[i, :3], R=rot)\n",
    "    desired_vec = rot @ pix_3d\n",
    "    t = project_to_plane(X_mpc[i, :3], desired_vec)\n",
    "    draw_vec(ax, X_mpc[i, :3], desired_vec*t + X_mpc[i, :3], color=colors[i])\n",
    "draw_coordinate_frame(ax, T=T, R=R.as_matrix())\n",
    "\n",
    "# vec from drone to target\n",
    "true_vec = target_traj[0] - x0[:3]\n",
    "draw_vec(ax, x0[:3], target_traj[0], color='r')\n",
    "\n",
    "# desired vec (center of image plane)\n",
    "yaw = x0[-1]\n",
    "vel = np.array([x0[3], x0[4], x0[5]])\n",
    "vel = vel / np.linalg.norm(vel)\n",
    "theta = math.asin(-vel[1])  # pitch\n",
    "# print([yaw, theta, phi])\n",
    "print(R.as_euler(\"ZYX\"))\n",
    "fake_R = Rotation.from_euler('ZYX', [yaw, 0, 0])\n",
    "desired_vec = fake_R.as_matrix() @ pix_3d\n",
    "t = project_to_plane(T, desired_vec)\n",
    "draw_vec(ax, T, desired_vec*t + T, color='g')\n",
    "\n",
    "ax.legend()\n",
    "plt.show()"
   ]
  },
  {
   "cell_type": "code",
   "execution_count": null,
   "metadata": {},
   "outputs": [],
   "source": []
  },
  {
   "cell_type": "code",
   "execution_count": null,
   "metadata": {},
   "outputs": [],
   "source": []
  }
 ],
 "metadata": {
  "kernelspec": {
   "display_name": "Python 3",
   "language": "python",
   "name": "python3"
  },
  "language_info": {
   "codemirror_mode": {
    "name": "ipython",
    "version": 3
   },
   "file_extension": ".py",
   "mimetype": "text/x-python",
   "name": "python",
   "nbconvert_exporter": "python",
   "pygments_lexer": "ipython3",
   "version": "3.6.9"
  }
 },
 "nbformat": 4,
 "nbformat_minor": 4
}
